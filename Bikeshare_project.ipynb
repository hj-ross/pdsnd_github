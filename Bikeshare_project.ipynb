{
 "cells": [
  {
   "cell_type": "code",
   "execution_count": 143,
   "id": "ea0f2b8e",
   "metadata": {},
   "outputs": [],
   "source": [
    "import time\n",
    "\n",
    "import pandas as pd\n",
    "\n",
    "import numpy as np\n",
    "\n",
    "import calendar"
   ]
  },
  {
   "cell_type": "code",
   "execution_count": 144,
   "id": "b3bf2aa8",
   "metadata": {},
   "outputs": [],
   "source": [
    "CITY_DATA = { 'chicago': 'chicago.csv',\n",
    "\n",
    "              'new york city': 'new_york_city.csv',\n",
    "\n",
    "              'washington': 'washington.csv' }\n"
   ]
  },
  {
   "cell_type": "code",
   "execution_count": 145,
   "id": "4f0bcc6b",
   "metadata": {},
   "outputs": [],
   "source": [
    "MONTH_DATA = list(calendar.month_name[1:7])\n"
   ]
  },
  {
   "cell_type": "code",
   "execution_count": 146,
   "id": "73c61508",
   "metadata": {},
   "outputs": [],
   "source": [
    "DAY_DATA = list(calendar.day_name)\n"
   ]
  },
  {
   "cell_type": "code",
   "execution_count": 147,
   "id": "3188a970",
   "metadata": {},
   "outputs": [],
   "source": [
    "def get_filters():\n",
    "\n",
    "    \"\"\"\n",
    "\n",
    "    Asks user to specify a city, month, and day to analyze.\n",
    "\n",
    "    Returns:\n",
    "\n",
    "        (str) city - name of the city to analyze\n",
    "\n",
    "        (str) month - name of the month to filter by, or \"all\" to apply no month filter\n",
    "\n",
    "        (str) day - name of the day of week to filter by, or \"all\" to apply no day filter\n",
    "\n",
    "    \"\"\"\n",
    "\n",
    "    print('Hello! Let\\'s explore some US bikeshare data!')\n",
    "\n",
    "    # get user input for city (chicago, new york city, washington). HINT: Use a while loop to handle invalid inputs\n",
    "    ask_city = \"Would you like to see data for Chicago, New York, or Washington?\"\n",
    "    city = \"\"\n",
    "    \n",
    "    while city not in CITY_DATA.keys():\n",
    "        city = input(ask_city).lower()\n",
    "        if city == 'new york':\n",
    "            city += ' city'\n",
    "\n",
    "            \n",
    "    ask_time_filter = \"Would you like to filter the data by month, day, or not at all?\"\n",
    "    time_filter = \"\"\n",
    "    \n",
    "    filters = ['month', 'day', 'not at all', 'all', 'see all', 'none', 'no filter']\n",
    "    while time_filter not in filters:\n",
    "        time_filter = input(ask_time_filter).lower()\n",
    "        if time_filter in filters[2:]:\n",
    "            time_filter = 'all'\n",
    "    \n",
    "    month = \"all\"\n",
    "    day = \"all\"\n",
    "    if time_filter == filters[0]:\n",
    "        month = get_month()\n",
    "    elif time_filter == filters[1]:\n",
    "        day = get_day()\n",
    "    \n",
    "    print('-'*40)\n",
    "\n",
    "    return     city, month, day"
   ]
  },
  {
   "cell_type": "code",
   "execution_count": 148,
   "id": "d61354e5",
   "metadata": {},
   "outputs": [],
   "source": [
    "def get_month():\n",
    "    \"\"\"Get the month for analysis.\"\"\"\n",
    "    \n",
    "    ask_month = \"Which month - January, February, March, April, May, or June?\"\n",
    "    month = \"\"\n",
    "    \n",
    "    # get user input for month ( january, february, ... , june)\n",
    "    while month not in MONTH_DATA:\n",
    "        month = input(ask_month).title()\n",
    "        \n",
    "    print(\"The month chosen for analysis is: {}\".format(month))\n",
    "    \n",
    "    return month"
   ]
  },
  {
   "cell_type": "code",
   "execution_count": 149,
   "id": "39cb951e",
   "metadata": {},
   "outputs": [],
   "source": [
    "def get_day():\n",
    "    \"\"\"Get the day of the week for analysis.\"\"\"\n",
    "    \n",
    "    ask_day = \"Which day - Monday, Tuesday, Wednesday, Thursday, Friday, Saturday, or Sunday?\"\n",
    "    day = \"\"\n",
    "    \n",
    "    # get user input for day of week (monday, tuesday, ... sunday)\n",
    "    while day not in DAY_DATA:\n",
    "        day = input(ask_day).title()\n",
    "        \n",
    "    print(\"The month chosen for analysis is: {}\".format(day))\n",
    "    \n",
    "    return day"
   ]
  },
  {
   "cell_type": "code",
   "execution_count": 153,
   "id": "b1c64717",
   "metadata": {},
   "outputs": [],
   "source": [
    "def load_data(city, month, day):\n",
    "\n",
    "    \"\"\"\n",
    "\n",
    "    Loads data for the specified city and filters by month and day if applicable.\n",
    "\n",
    "\n",
    "\n",
    "    Args:\n",
    "\n",
    "        (str) city - name of the city to analyze\n",
    "\n",
    "        (str) month - name of the month to filter by, or \"all\" to apply no month filter\n",
    "\n",
    "        (str) day - name of the day of week to filter by, or \"all\" to apply no day filter\n",
    "\n",
    "    Returns:\n",
    "\n",
    "        df - Pandas DataFrame containing city data filtered by month and day\n",
    "\n",
    "    \"\"\"\n",
    "    print(\"Analyzing data for {}, for month: {}, and day of week: {}\".format(city.title(), month, day))\n",
    "    \n",
    "    # load data file into a dataframe\n",
    "    df = pd.read_csv(CITY_DATA[city])\n",
    "    df.drop(['Unnamed: 0'], inplace=True)\n",
    "\n",
    "   # convert the Start Time column to datetime\n",
    "    df['Start Time'] = pd.to_datetime(df['Start Time'])\n",
    "\n",
    "    # extract month and day of week from Start Time to create new columns\n",
    "    df['hour'] = df['Start Time'].dt.hour\n",
    "    df['month'] = df['Start Time'].dt.month\n",
    "    df['day_of_week'] = df['Start Time'].dt.day_name()\n",
    "\n",
    "    # filter by month if applicable\n",
    "    if month != 'all':\n",
    "        # use the index of the months list to get the corresponding int\n",
    "        month = MONTH_DATA.index(month) + 1\n",
    "    \n",
    "        # filter by month to create the new dataframe\n",
    "        df = df[df['month'] == month]\n",
    "\n",
    "    # filter by day of week if applicable\n",
    "    if day != 'all':\n",
    "        # filter by day of week to create the new dataframe\n",
    "        df = df[df['day_of_week'] == day]\n",
    "    \n",
    "    return df"
   ]
  },
  {
   "cell_type": "code",
   "execution_count": 154,
   "id": "ed95d10e",
   "metadata": {},
   "outputs": [
    {
     "name": "stdout",
     "output_type": "stream",
     "text": [
      "Hello! Let's explore some US bikeshare data!\n",
      "Would you like to see data for Chicago, New York, or Washington?chicago\n",
      "Would you like to filter the data by month, day, or not at all?all\n",
      "----------------------------------------\n",
      "Analyzing data for Chicago, for month: all, and day of week: all\n"
     ]
    }
   ],
   "source": [
    "city, month, day = get_filters()\n",
    "\n",
    "#print(\"Analyzing data for {}, for month: {}, and day of week: {}\".format(city.title(), month, day))\n",
    "\n",
    "df = load_data(city, month, day)"
   ]
  },
  {
   "cell_type": "code",
   "execution_count": null,
   "id": "2ef776db",
   "metadata": {},
   "outputs": [],
   "source": [
    "#1 Popular times of travel (i.e., occurs most often in the start time)"
   ]
  },
  {
   "cell_type": "code",
   "execution_count": 156,
   "id": "7ec87b59",
   "metadata": {},
   "outputs": [
    {
     "name": "stdout",
     "output_type": "stream",
     "text": [
      "Most Popular Month:  June\n"
     ]
    }
   ],
   "source": [
    "if month == 'all':\n",
    "    print('Most Popular Month: ', MONTH_DATA[df.month.mode()[0]-1])"
   ]
  },
  {
   "cell_type": "code",
   "execution_count": 157,
   "id": "468f685d",
   "metadata": {},
   "outputs": [
    {
     "name": "stdout",
     "output_type": "stream",
     "text": [
      "Most Popular Day:  Tuesday\n"
     ]
    }
   ],
   "source": [
    "if day == 'all':\n",
    "    print('Most Popular Day: ', df.day_of_week.mode()[0])"
   ]
  },
  {
   "cell_type": "code",
   "execution_count": 158,
   "id": "692113ec",
   "metadata": {},
   "outputs": [
    {
     "name": "stdout",
     "output_type": "stream",
     "text": [
      "Most Popular Hour: 17\n"
     ]
    }
   ],
   "source": [
    "# get most popular time\n",
    "\n",
    "popular_hour = df.hour.mode()[0]\n",
    "print('Most Popular Hour:', popular_hour)"
   ]
  },
  {
   "cell_type": "code",
   "execution_count": null,
   "id": "4aa08e49",
   "metadata": {},
   "outputs": [],
   "source": [
    "#2 Popular stations and trip"
   ]
  },
  {
   "cell_type": "code",
   "execution_count": 159,
   "id": "4b9dd04b",
   "metadata": {},
   "outputs": [
    {
     "name": "stdout",
     "output_type": "stream",
     "text": [
      "Most Popular Start Station:  Streeter Dr & Grand Ave\n"
     ]
    }
   ],
   "source": [
    "print('Most Popular Start Station: ', df['Start Station'].mode()[0])"
   ]
  },
  {
   "cell_type": "code",
   "execution_count": 160,
   "id": "f6e9170e",
   "metadata": {},
   "outputs": [
    {
     "name": "stdout",
     "output_type": "stream",
     "text": [
      "Most Popular End Station:  Streeter Dr & Grand Ave\n"
     ]
    }
   ],
   "source": [
    "print('Most Popular End Station: ', df['End Station'].mode()[0])"
   ]
  },
  {
   "cell_type": "code",
   "execution_count": 161,
   "id": "1265db92",
   "metadata": {},
   "outputs": [],
   "source": [
    "df['Trip'] = 'From ' + df['Start Station'] + ' to ' + df['End Station']"
   ]
  },
  {
   "cell_type": "code",
   "execution_count": 162,
   "id": "806e43f2",
   "metadata": {},
   "outputs": [
    {
     "name": "stdout",
     "output_type": "stream",
     "text": [
      "Most Popular Trip:  From Lake Shore Dr & Monroe St to Streeter Dr & Grand Ave\n"
     ]
    }
   ],
   "source": [
    "print('Most Popular Trip: ', df.Trip.mode()[0])"
   ]
  },
  {
   "cell_type": "code",
   "execution_count": null,
   "id": "45d2924a",
   "metadata": {},
   "outputs": [],
   "source": [
    "\n",
    "#3 Trip duration"
   ]
  },
  {
   "cell_type": "code",
   "execution_count": null,
   "id": "96ca94ed",
   "metadata": {},
   "outputs": [],
   "source": [
    "# formatted using advice from: https://www.geeksforgeeks.org/print-number-commas-1000-separators-python/"
   ]
  },
  {
   "cell_type": "code",
   "execution_count": 163,
   "id": "cc379149",
   "metadata": {
    "scrolled": true
   },
   "outputs": [
    {
     "name": "stdout",
     "output_type": "stream",
     "text": [
      "Total time biked:  4,681,196.45  minutes\n",
      "Average trip duration:  15.60  minutes\n"
     ]
    }
   ],
   "source": [
    "total_time = df['Trip Duration'].sum() / 60\n",
    "print('Total time biked: ', '{:,.2f}'.format(total_time), ' minutes')\n",
    "\n",
    "print('Average trip duration: ', '{:,.2f}'.format(total_time / df.shape[0]), ' minutes')"
   ]
  },
  {
   "cell_type": "code",
   "execution_count": 164,
   "id": "6228bfde",
   "metadata": {},
   "outputs": [
    {
     "name": "stdout",
     "output_type": "stream",
     "text": [
      "Distribution of user types:\n",
      "Subscriber    238,889\n",
      "Customer       61,110\n",
      "Dependent           1\n",
      "Name: User Type, dtype: object\n"
     ]
    }
   ],
   "source": [
    "## print value counts for each user type\n",
    "user_types = df['User Type'].value_counts()\n",
    "\n",
    "print(\"Distribution of user types:\")\n",
    "print(user_types.apply(lambda x: '{:,}'.format(x)))"
   ]
  },
  {
   "cell_type": "code",
   "execution_count": 165,
   "id": "b107c769",
   "metadata": {},
   "outputs": [],
   "source": [
    "raw_choices = ['yes', 'y', 'no', 'n']\n",
    "\n",
    "def show_raw(row_start=0):\n",
    "    \n",
    "    ask_raw = \"Would you like to see{} raw data?\".format(' more' if row_start else '')   \n",
    "    raw_choice = ''\n",
    "\n",
    "    # get user's choice\n",
    "    while raw_choice not in raw_choices:\n",
    "        raw_choice = input(ask_raw).lower()\n",
    "    \n",
    "    if raw_choice in raw_choices[:2]:\n",
    "        print(df.iloc[row_start:row_start+5])\n",
    "        show_raw(row_start+5)\n",
    "        \n",
    "    \n",
    "\n"
   ]
  },
  {
   "cell_type": "code",
   "execution_count": 166,
   "id": "580a1e3a",
   "metadata": {},
   "outputs": [
    {
     "name": "stdout",
     "output_type": "stream",
     "text": [
      "Would you like to see raw data?y\n",
      "           Start Time             End Time  Trip Duration  \\\n",
      "0 2017-06-23 15:09:32  2017-06-23 15:14:53            321   \n",
      "1 2017-05-25 18:19:03  2017-05-25 18:45:53           1610   \n",
      "2 2017-01-04 08:27:49  2017-01-04 08:34:45            416   \n",
      "3 2017-03-06 13:49:38  2017-03-06 13:55:28            350   \n",
      "4 2017-01-17 14:53:07  2017-01-17 15:02:01            534   \n",
      "\n",
      "                   Start Station                   End Station   User Type  \\\n",
      "0           Wood St & Hubbard St       Damen Ave & Chicago Ave  Subscriber   \n",
      "1            Theater on the Lake  Sheffield Ave & Waveland Ave  Subscriber   \n",
      "2             May St & Taylor St           Wood St & Taylor St  Subscriber   \n",
      "3  Christiana Ave & Lawrence Ave  St. Louis Ave & Balmoral Ave  Subscriber   \n",
      "4         Clark St & Randolph St  Desplaines St & Jackson Blvd  Subscriber   \n",
      "\n",
      "   Gender  Birth Year  hour  month day_of_week  \\\n",
      "0    Male      1992.0    15      6      Friday   \n",
      "1  Female      1992.0    18      5    Thursday   \n",
      "2    Male      1981.0     8      1   Wednesday   \n",
      "3    Male      1986.0    13      3      Monday   \n",
      "4    Male      1975.0    14      1     Tuesday   \n",
      "\n",
      "                                                Trip  \n",
      "0  From Wood St & Hubbard St to Damen Ave & Chica...  \n",
      "1  From Theater on the Lake to Sheffield Ave & Wa...  \n",
      "2     From May St & Taylor St to Wood St & Taylor St  \n",
      "3  From Christiana Ave & Lawrence Ave to St. Loui...  \n",
      "4  From Clark St & Randolph St to Desplaines St &...  \n",
      "Would you like to see more raw data?yes\n",
      "           Start Time             End Time  Trip Duration  \\\n",
      "5 2017-06-26 09:01:20  2017-06-26 09:11:06            586   \n",
      "6 2017-05-26 09:41:44  2017-05-26 09:46:25            281   \n",
      "7 2017-01-21 14:28:38  2017-01-21 14:40:41            723   \n",
      "8 2017-04-20 16:08:51  2017-04-20 16:20:20            689   \n",
      "9 2017-02-06 18:00:47  2017-02-06 18:09:00            493   \n",
      "\n",
      "                  Start Station                    End Station   User Type  \\\n",
      "5  Clinton St & Washington Blvd           Canal St & Taylor St  Subscriber   \n",
      "6         Ashland Ave & Lake St           Wood St & Hubbard St  Subscriber   \n",
      "7    Larrabee St & Kingsbury St     Larrabee St & Armitage Ave    Customer   \n",
      "8        Sedgwick St & Huron St  Halsted St & Blackhawk St (*)  Subscriber   \n",
      "9  Stetson Ave & South Water St   Clinton St & Washington Blvd  Subscriber   \n",
      "\n",
      "   Gender  Birth Year  hour  month day_of_week  \\\n",
      "5    Male      1990.0     9      6      Monday   \n",
      "6  Female      1983.0     9      5      Friday   \n",
      "7     NaN         NaN    14      1    Saturday   \n",
      "8    Male      1984.0    16      4    Thursday   \n",
      "9    Male      1979.0    18      2      Monday   \n",
      "\n",
      "                                                Trip  \n",
      "5  From Clinton St & Washington Blvd to Canal St ...  \n",
      "6  From Ashland Ave & Lake St to Wood St & Hubbar...  \n",
      "7  From Larrabee St & Kingsbury St to Larrabee St...  \n",
      "8  From Sedgwick St & Huron St to Halsted St & Bl...  \n",
      "9  From Stetson Ave & South Water St to Clinton S...  \n",
      "Would you like to see more raw data?no\n"
     ]
    }
   ],
   "source": [
    "show_raw()"
   ]
  }
 ],
 "metadata": {
  "kernelspec": {
   "display_name": "Python 3 (ipykernel)",
   "language": "python",
   "name": "python3"
  },
  "language_info": {
   "codemirror_mode": {
    "name": "ipython",
    "version": 3
   },
   "file_extension": ".py",
   "mimetype": "text/x-python",
   "name": "python",
   "nbconvert_exporter": "python",
   "pygments_lexer": "ipython3",
   "version": "3.10.9"
  }
 },
 "nbformat": 4,
 "nbformat_minor": 5
}
